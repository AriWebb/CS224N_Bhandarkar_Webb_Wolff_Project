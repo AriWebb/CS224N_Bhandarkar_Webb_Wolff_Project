{
 "cells": [
  {
   "attachments": {},
   "cell_type": "markdown",
   "metadata": {},
   "source": [
    "Interpret Goodreads CSV\n",
    "Ari Webb - 2/13/23\n",
    "\n",
    "This notebook interprets the scraped goodreads data. I am still working on it."
   ]
  },
  {
   "cell_type": "code",
   "execution_count": 1,
   "metadata": {},
   "outputs": [],
   "source": [
    "import pandas as pd\n",
    "df = pd.read_csv('data/all_books.csv')"
   ]
  },
  {
   "cell_type": "code",
   "execution_count": 10,
   "metadata": {},
   "outputs": [
    {
     "name": "stdout",
     "output_type": "stream",
     "text": [
      "<class 'pandas.core.frame.DataFrame'>\n",
      "RangeIndex: 8937 entries, 0 to 8936\n",
      "Data columns (total 4 columns):\n",
      " #   Column       Non-Null Count  Dtype \n",
      "---  ------       --------------  ----- \n",
      " 0   book_id      8937 non-null   int64 \n",
      " 1   book_title   8937 non-null   object\n",
      " 2   genres       6762 non-null   object\n",
      " 3   description  8149 non-null   object\n",
      "dtypes: int64(1), object(3)\n",
      "memory usage: 279.4+ KB\n"
     ]
    },
    {
     "data": {
      "text/plain": [
       "2175"
      ]
     },
     "execution_count": 10,
     "metadata": {},
     "output_type": "execute_result"
    }
   ],
   "source": [
    "# Get general info\n",
    "df.info()\n",
    "\n",
    "# We want to see for how many books is genres not provided (these books we can't use unfortunately)\n",
    "df['genres'].isna().sum()\n",
    "\n",
    "#Looks like as of now I only have about 7000 usable datapoints... should I collect more?\n"
   ]
  }
 ],
 "metadata": {
  "kernelspec": {
   "display_name": "Python 3",
   "language": "python",
   "name": "python3"
  },
  "language_info": {
   "codemirror_mode": {
    "name": "ipython",
    "version": 3
   },
   "file_extension": ".py",
   "mimetype": "text/x-python",
   "name": "python",
   "nbconvert_exporter": "python",
   "pygments_lexer": "ipython3",
   "version": "3.8.10"
  },
  "orig_nbformat": 4,
  "vscode": {
   "interpreter": {
    "hash": "916dbcbb3f70747c44a77c7bcd40155683ae19c65e1c03b4aa3499c5328201f1"
   }
  }
 },
 "nbformat": 4,
 "nbformat_minor": 2
}
